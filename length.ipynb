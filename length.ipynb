{
 "cells": [
  {
   "cell_type": "code",
   "execution_count": 1,
   "id": "dd960319",
   "metadata": {},
   "outputs": [],
   "source": [
    "import numpy as np\n",
    "import pandas as pd\n",
    "import re, csv, string"
   ]
  },
  {
   "cell_type": "code",
   "execution_count": 4,
   "id": "b4ca2647",
   "metadata": {},
   "outputs": [
    {
     "name": "stdout",
     "output_type": "stream",
     "text": [
      "4480\n"
     ]
    }
   ],
   "source": [
    "data_file_in='covid_real_p.csv'\n",
    "df_in_real=pd.read_csv( data_file_in, header=0, encoding=\"ISO-8859–1\", engine='python' )\n",
    "\n",
    "df_lis_real=df_in_real['text'].tolist()\n",
    "print(len(df_lis_real))"
   ]
  },
  {
   "cell_type": "code",
   "execution_count": 5,
   "id": "55c78b22",
   "metadata": {},
   "outputs": [],
   "source": [
    "import string, re\n",
    "\n",
    "wordCount=0\n",
    "llist=[]\n",
    "\n",
    "for ll in df_lis_real:\n",
    "    senten=str(ll)\n",
    "\n",
    "    senten = re.sub(r\"[{}]\".format(string.punctuation), \"\", senten)\n",
    "    \n",
    "    llist=senten.split(\" \")\n",
    "\n",
    "    wordCount+=len(llist)"
   ]
  },
  {
   "cell_type": "code",
   "execution_count": 6,
   "id": "c746a628",
   "metadata": {},
   "outputs": [
    {
     "name": "stdout",
     "output_type": "stream",
     "text": [
      "133940\n"
     ]
    }
   ],
   "source": [
    "print(wordCount)"
   ]
  },
  {
   "cell_type": "code",
   "execution_count": 8,
   "id": "a97ef56e",
   "metadata": {},
   "outputs": [],
   "source": [
    "textlinelen_real=[]\n",
    "\n",
    "i=0\n",
    "for st in df_lis_real:\n",
    "    st=str(st)\n",
    "    textlinelen_real.append(len(st))"
   ]
  },
  {
   "cell_type": "code",
   "execution_count": 10,
   "id": "725562e2",
   "metadata": {},
   "outputs": [
    {
     "name": "stdout",
     "output_type": "stream",
     "text": [
      "4480\n",
      "1639\n",
      "10\n",
      "175.07366071428572\n",
      "29.897321428571427\n"
     ]
    }
   ],
   "source": [
    "print(len(textlinelen_real))\n",
    "print(max(textlinelen_real))\n",
    "print(min(textlinelen_real))\n",
    "print(sum(textlinelen_real)/len(textlinelen_real))\n",
    "print(wordCount/len(textlinelen_real))"
   ]
  },
  {
   "cell_type": "code",
   "execution_count": 11,
   "id": "b171818a",
   "metadata": {},
   "outputs": [],
   "source": [
    "#########################################################33"
   ]
  },
  {
   "cell_type": "code",
   "execution_count": 13,
   "id": "435967e5",
   "metadata": {},
   "outputs": [
    {
     "name": "stdout",
     "output_type": "stream",
     "text": [
      "4078\n"
     ]
    }
   ],
   "source": [
    "data_file_in='covid_fake_p.csv'\n",
    "df_in_fake=pd.read_csv( data_file_in, header=0, encoding=\"ISO-8859–1\", engine='python' )\n",
    "\n",
    "df_lis_fake=df_in_fake['text'].tolist()\n",
    "print(len(df_lis_fake))"
   ]
  },
  {
   "cell_type": "code",
   "execution_count": 14,
   "id": "1afe23ff",
   "metadata": {},
   "outputs": [],
   "source": [
    "import string, re\n",
    "\n",
    "wordCount=0\n",
    "llist=[]\n",
    "\n",
    "for ll in df_lis_fake:\n",
    "    senten=str(ll)\n",
    "\n",
    "    senten = re.sub(r\"[{}]\".format(string.punctuation), \"\", senten)\n",
    "    \n",
    "    llist=senten.split(\" \")\n",
    "\n",
    "    wordCount+=len(llist)"
   ]
  },
  {
   "cell_type": "code",
   "execution_count": 15,
   "id": "3740588c",
   "metadata": {},
   "outputs": [
    {
     "name": "stdout",
     "output_type": "stream",
     "text": [
      "84426\n"
     ]
    }
   ],
   "source": [
    "print(wordCount)"
   ]
  },
  {
   "cell_type": "code",
   "execution_count": 16,
   "id": "c8bc7ebb",
   "metadata": {},
   "outputs": [],
   "source": [
    "textlinelen_fake=[]\n",
    "\n",
    "i=0\n",
    "for st in df_lis_fake:\n",
    "    st=str(st)\n",
    "    textlinelen_fake.append(len(st))"
   ]
  },
  {
   "cell_type": "code",
   "execution_count": 17,
   "id": "c5154116",
   "metadata": {},
   "outputs": [
    {
     "name": "stdout",
     "output_type": "stream",
     "text": [
      "4078\n",
      "8793\n",
      "12\n",
      "125.02550269740068\n",
      "20.702795487984307\n"
     ]
    }
   ],
   "source": [
    "print(len(textlinelen_fake))\n",
    "print(max(textlinelen_fake))\n",
    "print(min(textlinelen_fake))\n",
    "print(sum(textlinelen_fake)/len(textlinelen_fake))\n",
    "print(wordCount/len(textlinelen_fake))"
   ]
  },
  {
   "cell_type": "code",
   "execution_count": null,
   "id": "6d57cf69",
   "metadata": {},
   "outputs": [],
   "source": [
    "#####################################################################"
   ]
  },
  {
   "cell_type": "code",
   "execution_count": 4,
   "id": "7f7c2e47",
   "metadata": {},
   "outputs": [
    {
     "name": "stdout",
     "output_type": "stream",
     "text": [
      "4078\n",
      "4480\n",
      "8558\n"
     ]
    }
   ],
   "source": [
    "data_fake='covid_fake_p.csv'\n",
    "df_in_fake=pd.read_csv( data_fake, header=0, encoding=\"ISO-8859–1\", engine='python' )\n",
    "data_real='covid_real_p.csv'\n",
    "df_in_real=pd.read_csv( data_real, header=0, encoding=\"ISO-8859–1\", engine='python' )\n",
    "\n",
    "print(len(df_in_fake))\n",
    "print(len(df_in_real))\n",
    "\n",
    "df_in_fake=(df_in_fake.append(df_in_real)).sample(frac=1).reset_index(drop=True)\n",
    "df=df_in_fake\n",
    "df_lis=df['text'].tolist()\n",
    "print(len(df_lis))"
   ]
  },
  {
   "cell_type": "code",
   "execution_count": 5,
   "id": "87632a76",
   "metadata": {},
   "outputs": [],
   "source": [
    "import string, re\n",
    "\n",
    "wordCount=0\n",
    "llist=[]\n",
    "\n",
    "for ll in df_lis:\n",
    "    senten=str(ll)\n",
    "\n",
    "    senten = re.sub(r\"[{}]\".format(string.punctuation), \"\", senten)\n",
    "    \n",
    "    llist=senten.split(\" \")\n",
    "\n",
    "    wordCount+=len(llist)"
   ]
  },
  {
   "cell_type": "code",
   "execution_count": 6,
   "id": "42f9e92a",
   "metadata": {},
   "outputs": [
    {
     "name": "stdout",
     "output_type": "stream",
     "text": [
      "218366\n"
     ]
    }
   ],
   "source": [
    "print(wordCount)"
   ]
  },
  {
   "cell_type": "code",
   "execution_count": 7,
   "id": "3f291a66",
   "metadata": {},
   "outputs": [],
   "source": [
    "textlinelen_all=[]\n",
    "\n",
    "i=0\n",
    "for st in df_lis:\n",
    "    st=str(st)\n",
    "    textlinelen_all.append(len(st))"
   ]
  },
  {
   "cell_type": "code",
   "execution_count": 9,
   "id": "56a15489",
   "metadata": {},
   "outputs": [
    {
     "name": "stdout",
     "output_type": "stream",
     "text": [
      "8558\n",
      "8793\n",
      "10\n",
      "151.22505258237905\n",
      "25.51600841318065\n"
     ]
    }
   ],
   "source": [
    "print(len(textlinelen_all))\n",
    "print(max(textlinelen_all))\n",
    "print(min(textlinelen_all))\n",
    "print(sum(textlinelen_all)/len(textlinelen_all))\n",
    "print(wordCount/len(textlinelen_all))"
   ]
  },
  {
   "cell_type": "code",
   "execution_count": null,
   "id": "6b21bee1",
   "metadata": {},
   "outputs": [],
   "source": []
  }
 ],
 "metadata": {
  "kernelspec": {
   "display_name": "Python 3 (ipykernel)",
   "language": "python",
   "name": "python3"
  },
  "language_info": {
   "codemirror_mode": {
    "name": "ipython",
    "version": 3
   },
   "file_extension": ".py",
   "mimetype": "text/x-python",
   "name": "python",
   "nbconvert_exporter": "python",
   "pygments_lexer": "ipython3",
   "version": "3.8.10"
  }
 },
 "nbformat": 4,
 "nbformat_minor": 5
}
